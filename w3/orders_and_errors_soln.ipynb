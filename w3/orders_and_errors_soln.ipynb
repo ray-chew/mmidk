{
 "cells": [
  {
   "cell_type": "markdown",
   "id": "ba171e57-bfe7-4e94-80dd-a7e289953484",
   "metadata": {},
   "source": [
    "# Tutorial 4\n",
    "\n",
    "Let's import some libraries..."
   ]
  },
  {
   "cell_type": "code",
   "execution_count": 2,
   "id": "c28e888a-34e1-4be3-baf4-2ca5465dcc96",
   "metadata": {},
   "outputs": [],
   "source": [
    "import numpy as np\n",
    "import matplotlib.pyplot as plt"
   ]
  },
  {
   "cell_type": "markdown",
   "id": "70fa3f3c-4575-4ac5-a515-812a94ba540d",
   "metadata": {},
   "source": [
    "## The order of a numerical method\n",
    "\n",
    "Last week, we came across the explicit Euler, and the Euler-A and Euler-B methods. These are first-order methods, while the Störmer-Verlet is a second-order method. The \"order\" here refers to [order of accuracy](https://en.wikipedia.org/wiki/Order_of_accuracy) of the numerical method.\n",
    "\n",
    "We saw that for the Euler-A and Euler-B methods, a step size of $\\Delta t=0.1$ is unable to reproduce the theoretical phase space diagram. The example phase space plot for the Euler-A method is provided below:\n",
    "\n",
    "<center><img src=\"./img/euler_a_ps.png\" style=\"width: 300px;\" /></center>\n",
    "\n",
    "On the other hand, if we were decrease the time step-size to $\\Delta t=0.01$, i.e. to run our problem at a higher resolution, our numerical solution is able to better reproduce the theoretical phase space diagram:\n",
    "\n",
    "<center><img src=\"./img/euler_a_ps_small_ts.png\" style=\"width: 300px;\" /></center>\n",
    "\n",
    "This observation is related to the order of the numerical method. Loosely speaking, the order of a numerical method tells us the answer to the question:\n",
    "\n",
    "    How much improvement can I get from the numerical method if I were to increase the resolution of my problem? \n",
    "    \n",
    "Mathematically, if we have a numerical solution $u_h$ and an exact solution $u$, then a $n$-th order numerical method gives us\n",
    "\n",
    "$$\\Vert u_h - u \\Vert = \\mathcal{O}(h^n), \\tag{1}$$\n",
    "\n",
    "where $h$ is our step size, e.g. $\\Delta t$ above."
   ]
  },
  {
   "cell_type": "markdown",
   "id": "9a849520-24e6-483e-9e92-5fbbc5e8d2f9",
   "metadata": {},
   "source": [
    "## A simple example\n",
    "\n",
    "Now let us develop an intuition of the order of accuracy of a numerical method with our harmonic oscillator problem. We pick the Euler-A method, and the literature tells us that this is a first-order method. Can we verify this?\n",
    "\n",
    "First of all, taking the log on both sides of equation (1) above and rearraging gives us\n",
    "\n",
    "$$\\frac{\\log(\\Vert u_h - u \\Vert)}{\\log( h )} \\sim n.$$\n",
    "\n",
    "Let's try to code this up..."
   ]
  },
  {
   "cell_type": "code",
   "execution_count": 4,
   "id": "b22e2831-6fbe-4a25-aaed-88efcd3e5ba1",
   "metadata": {},
   "outputs": [
    {
     "name": "stdout",
     "output_type": "stream",
     "text": [
      "[1e-05, 0.0001, 0.001, 0.01, 0.1]\n",
      "<class 'list'>\n",
      "<class 'numpy.ndarray'>\n",
      "[1.21732153 1.12041156 1.15050957 1.20061426 1.29994154 1.5797836 ]\n",
      "[1.0, 10.0, 100.0, 1000.0, 10000.0, 100000.0]\n"
     ]
    },
    {
     "data": {
      "image/png": "[encoded data removed]",
      "text/plain": [
       "<Figure size 432x288 with 1 Axes>"
      ]
     },
     "metadata": {
      "needs_background": "light"
     },
     "output_type": "display_data"
    }
   ],
   "source": [
    "# First, we need a set of time-step sizes (dt) to test our problem.\n",
    "# Now we note that the dts array is a Python list.\n",
    "dts = [0.000001,0.00001,0.0001,0.001,0.01,0.1]\n",
    "dts_new = [(10**(n-5)) for n in range(5)]\n",
    "print(dts_new)\n",
    "\n",
    "# Then we want to code a function for the Euler-B method,\n",
    "# so that we can reuse the code for each dt.\n",
    "def euler_b(xb,vb,dt,Nt):\n",
    "    for idx in range(Nt):\n",
    "        vb[idx+1] = vb[idx] - dt * xb[idx]\n",
    "        xb[idx+1] = xb[idx] + dt * vb[idx+1]\n",
    "        \n",
    "    energy = 0.5 * xb**2 + 0.5 * vb**2\n",
    "    return xb, vb, energy\n",
    "\n",
    "# Now let's define the number of time steps and\n",
    "# an array to store our results.\n",
    "err = []\n",
    "Nt = 100000\n",
    "\n",
    "# a for-loop to loop through the dt's\n",
    "for dt in dts:\n",
    "    # and for each dt, we have to redefine the \n",
    "    # solution arrays and the initial condition.\n",
    "    xb = np.zeros((Nt+1))\n",
    "    vb = np.zeros((Nt+1))\n",
    "    vb[0] = 1.0\n",
    "    \n",
    "    # Because dt changes, recompute the time\n",
    "    t = np.arange(Nt+1)*dt\n",
    "\n",
    "    # and we also recompute the exact solutions\n",
    "    xth = np.sin(t)\n",
    "    vth = np.cos(t)\n",
    "    eth = 0.5*xth**2 + 0.5*vth**2\n",
    "    \n",
    "    # we obtain the solution for the \n",
    "    _, _, energy = euler_b(xb,vb,dt,Nt)\n",
    "    \n",
    "    # to compute the error in the numerical solution,\n",
    "    # we use the max. norm.\n",
    "    err_in_energy = np.abs(energy - eth).max()\n",
    "    \n",
    "    # we store the error we computed\n",
    "    err.append(err_in_energy)\n",
    "    \n",
    "# note that both dts and err are Python lists.\n",
    "print(type(dts))\n",
    "# but let's do something cool...\n",
    "print(type(np.log(dts)))\n",
    "\n",
    "# now we can compute equation (2) above to obtain\n",
    "# as estimate for n.\n",
    "print(np.log(err) / np.log(dts))\n",
    "\n",
    "# what does first-order convergence actually means?\n",
    "# let's implement our theoretical understanding.\n",
    "err_th = [ (10**expn)**1.0 for expn in range(len(dts)) ]\n",
    "print(err_th)\n",
    "# we can do better...\n",
    "err_th = np.array(err_th) * err[0]\n",
    "\n",
    "plt.figure()\n",
    "plt.loglog(dts, err, '-o', label='order of convergence of the Euler-B method')\n",
    "plt.loglog(dts, err_th, '--', label='theoretical 1st. order convergence')\n",
    "plt.loglog()\n",
    "plt.ylabel(r\"log(error in the energy)\")\n",
    "plt.xlabel(r\"log(time step-size $\\Delta t$)\")\n",
    "plt.legend()\n",
    "plt.show()"
   ]
  },
  {
   "cell_type": "code",
   "execution_count": 36,
   "id": "881a8a2e-9b0a-44fe-9f15-01e562751c34",
   "metadata": {},
   "outputs": [
    {
     "name": "stdout",
     "output_type": "stream",
     "text": [
      "456 µs ± 2.87 µs per loop (mean ± std. dev. of 7 runs, 1000 loops each)\n"
     ]
    }
   ],
   "source": [
    "%%timeit\n",
    "a = []\n",
    "for i in range(10000):\n",
    "    a.append(i)"
   ]
  },
  {
   "cell_type": "code",
   "execution_count": 38,
   "id": "f8d6a25e-7fa2-4580-ac3a-0156ce4f3821",
   "metadata": {},
   "outputs": [
    {
     "name": "stdout",
     "output_type": "stream",
     "text": [
      "3.78 ms ± 158 µs per loop (mean ± std. dev. of 7 runs, 100 loops each)\n"
     ]
    }
   ],
   "source": [
    "%%timeit\n",
    "b = np.array([])\n",
    "for i in range(1000):\n",
    "    b = np.append(b, i)"
   ]
  },
  {
   "cell_type": "code",
   "execution_count": 39,
   "id": "1f9c3920-7f77-4b35-a90e-610e08857dc4",
   "metadata": {},
   "outputs": [
    {
     "name": "stdout",
     "output_type": "stream",
     "text": [
      "721 µs ± 9.95 µs per loop (mean ± std. dev. of 7 runs, 1000 loops each)\n"
     ]
    }
   ],
   "source": [
    "%%timeit\n",
    "b = np.zeros((10000))\n",
    "for i in range(10000):\n",
    "    b[i] = i"
   ]
  },
  {
   "cell_type": "code",
   "execution_count": 41,
   "id": "0cda045f-1361-42a2-8b77-ce7820b31eea",
   "metadata": {},
   "outputs": [
    {
     "name": "stdout",
     "output_type": "stream",
     "text": [
      "307 µs ± 15.9 µs per loop (mean ± std. dev. of 7 runs, 1000 loops each)\n"
     ]
    }
   ],
   "source": [
    "%%timeit\n",
    "b = [0] * 10000\n",
    "for i in range(10000):\n",
    "    b[i] = i"
   ]
  },
  {
   "cell_type": "markdown",
   "id": "95d9bcf4-bcd8-46c1-8652-1b030af8e6ee",
   "metadata": {},
   "source": [
    "## Local vs global truncation error\n",
    "\n",
    "Quoting [Wikipedia](https://en.wikipedia.org/wiki/Truncation_error_(numerical_integration)) as usual, \n",
    "\n",
    "\"Truncation errors in numerical integration are of two kinds:\"\n",
    "  - local truncation errors – the error caused by one iteration, and\n",
    "  - global truncation errors – the cumulative error caused by many iterations.\n",
    "\n",
    "Above, we computed the global truncation error which is normally what gives us the order of a numerical method. However, let's repeat our experiment with fewer number of time-steps, say 10. What happens now? "
   ]
  },
  {
   "cell_type": "code",
   "execution_count": null,
   "id": "372c62b0-abe9-4983-bbfd-94dcfa80d728",
   "metadata": {},
   "outputs": [],
   "source": []
  },
  {
   "cell_type": "markdown",
   "id": "d7faf198-0c15-4c09-a599-abfce5f8063c",
   "metadata": {},
   "source": [
    "## Exercise 1\n",
    "1. Do a error convergence study for the Störmer-Verlet method. Try with say 100,000 time-steps. Do your results verify that the method is indeed second-order?\n",
    "2. Re-run the study with 10 time-steps. Now what is the order of convergence? Can you explain why? (Hint: This [Wikipedia page](https://en.wikipedia.org/wiki/Verlet_integration#Error_terms) may be helpful.)"
   ]
  },
  {
   "cell_type": "code",
   "execution_count": null,
   "id": "541fdf00-5fd2-47e3-8c0e-3d87445cd58c",
   "metadata": {},
   "outputs": [],
   "source": []
  }
 ],
 "metadata": {
  "kernelspec": {
   "display_name": "Python 3",
   "language": "python",
   "name": "python3"
  },
  "language_info": {
   "codemirror_mode": {
    "name": "ipython",
    "version": 3
   },
   "file_extension": ".py",
   "mimetype": "text/x-python",
   "name": "python",
   "nbconvert_exporter": "python",
   "pygments_lexer": "ipython3",
   "version": "3.7.10"
  }
 },
 "nbformat": 4,
 "nbformat_minor": 5
}
