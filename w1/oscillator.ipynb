{
 "cells": [
  {
   "cell_type": "markdown",
   "id": "e841e005-3209-4f72-a570-a1db723c1b81",
   "metadata": {},
   "source": [
    "# Tutorial 2\n",
    "## Exercise 2: ``import``, ``odeint`` and functions\n",
    "\n",
    "Let's first import the libraries that we will be using.\n",
    "\n",
    "Notice the following:\n",
    "1. We are importing the ``numpy`` library and from now on, we call it ``np``.\n",
    "2. From the ``scipy`` library, we are importing the ``odeint`` module from the ``integrate`` package.\n",
    "3. From ``matplotlib``, we are importing the ``pyplot`` package as ``plt``. \n",
    "\n",
    "Pay attention to how these libraries, packages, and modules are called in the code below."
   ]
  },
  {
   "cell_type": "code",
   "execution_count": 2,
   "id": "a1ff50d3-c72a-4de3-bff9-74f921fe9b8f",
   "metadata": {},
   "outputs": [],
   "source": [
    "import numpy as np\n",
    "from scipy.integrate import odeint\n",
    "import matplotlib.pyplot as plt"
   ]
  },
  {
   "cell_type": "markdown",
   "id": "19562495-8c0e-4430-86a5-e12f59b9fb6e",
   "metadata": {},
   "source": [
    "``odeint`` is a Python module that allows us to integrate a system of ordinary differential equations (ODEs).\n",
    "\n",
    "A good starting point for everything is to read the documentation:<br>\n",
    "<https://docs.scipy.org/doc/scipy/reference/generated/scipy.integrate.odeint.html>\n",
    "\n",
    "Notice that we have to provide three **mandatory** *positional arguments*: \n",
    "1. a function ``func``\n",
    "2. a set of initial conditions `y0`\n",
    "3. the duration for which we want to solve the ODEs `t`\n",
    "\n",
    "The rest of the arguments are optional *keyword arguments*."
   ]
  },
  {
   "cell_type": "markdown",
   "id": "71a78032-9451-4389-b68b-50d29accf5b5",
   "metadata": {},
   "source": [
    "## Exercise 3: Our first problem\n",
    "We want to solve the harmonic oscillator problem on page 17 of the lecture notes by Klein et al. (2011), i.e.\n",
    "\n",
    "$$m \\ddot{x} = - cx - k \\dot{x} + F_D(t),$$\n",
    "\n",
    "which is best explained by the following illustration from the lecture notes...\n",
    "\n",
    "<center><img src=\"./img/oscillator.png\" style=\"width: 200px;\" /></center>\n",
    "\n",
    "The analytical solutions are already given in the lecture notes and we want solve the problem computationally.\n",
    "\n",
    "Say as a first step, we want to solve a simple spring-mass system without any damping and without any forcing, i.e. $k=0$, $F_D \\equiv 0$. We then want to reproduce Figure 4 in the lecture notes.\n",
    "\n",
    "How do you suggest we start tackling this problem?"
   ]
  },
  {
   "cell_type": "markdown",
   "id": "05ebc743-e50c-4da8-8d32-44205b8b2c8d",
   "metadata": {},
   "source": [
    "### Hints:"
   ]
  },
  {
   "cell_type": "markdown",
   "id": "2f609fef-429e-466e-8be3-f458cb069018",
   "metadata": {
    "tags": []
   },
   "source": [
    "1. Recall that we need three inputs: a function, an initial condition, and a duration.\n",
    "2. What should be our function here?\n",
    "3. Our problem is a second-order ODE, where $\\ddot{x}$ is is the second-order derivative with respect to time $t$. On the other hand, `odeint` solves a (system of) first-oder ODE(s). What must we do to make the function work with `odeint`?"
   ]
  },
  {
   "cell_type": "code",
   "execution_count": 33,
   "id": "d56e80eb-9b13-4f6b-a3ee-ece6c0eef206",
   "metadata": {
    "tags": []
   },
   "outputs": [],
   "source": [
    "# Try out your solution here:\n",
    "\n"
   ]
  },
  {
   "cell_type": "code",
   "execution_count": null,
   "id": "58f14da5-ac64-4075-b740-09e8634a2790",
   "metadata": {},
   "outputs": [],
   "source": [
    "# Here are some code to help you plot the solution.\n",
    "\n",
    "# plt.plot(t, sol[:, 0], label='undamped')\n",
    "# plt.legend(loc='best')\n",
    "# plt.xlabel('t')\n",
    "# plt.grid()\n",
    "# plt.show()"
   ]
  },
  {
   "cell_type": "markdown",
   "id": "ad3027ff-500a-4c7a-aba2-c6a7bf4afc0e",
   "metadata": {},
   "source": [
    "## Exercise 4: Reproduce Figure 5"
   ]
  },
  {
   "cell_type": "code",
   "execution_count": 35,
   "id": "e1d94d81-cd5c-499f-8172-e0efc9e355b4",
   "metadata": {
    "tags": []
   },
   "outputs": [],
   "source": [
    "# Try out your solution here:\n",
    "# D < 0, under-damped\n",
    "\n",
    "\n",
    "# D = 0, critically damped\n",
    "\n",
    "\n",
    "# D > 0, over-damped\n",
    "\n",
    "\n",
    "# Let's plot the solutions\n",
    "# plt.plot(t, undr_damped[:, 0], label='under-damped')\n",
    "# plt.plot(t, crit_damped[:, 0], label='critically damped')\n",
    "# plt.plot(t, over_damped[:, 0], label='over-damped')\n",
    "# plt.legend(loc='best')\n",
    "# plt.xlabel('t')\n",
    "# plt.grid()\n",
    "# plt.show()"
   ]
  },
  {
   "cell_type": "markdown",
   "id": "31b36525-90f0-4b8f-9eff-32a03b8bdbb6",
   "metadata": {},
   "source": [
    "## Exercise 5:\n",
    "1. Reproduce the graphs in Figure 6 (you don't have to reproduce them *exactly*).\n",
    "2. In the process, develop an intuition for the harmonic oscillator."
   ]
  },
  {
   "cell_type": "code",
   "execution_count": 34,
   "id": "d8a127f9-f2ce-4106-acef-e83642f4e6ef",
   "metadata": {
    "tags": []
   },
   "outputs": [],
   "source": [
    "# Try out your solution here:\n",
    "\n",
    "# ...\n",
    "\n",
    "# Let's plot the solutions\n",
    "# plt.plot(t, superposition[:, 0], label='superposition')\n",
    "# plt.plot(t, external_forcing[:, 0], label='external forcing')\n",
    "# plt.plot(t, resonance[:, 0], label='resonance')\n",
    "# plt.legend(loc='best')\n",
    "# plt.xlabel('t')\n",
    "# plt.grid()\n",
    "# plt.show()"
   ]
  },
  {
   "cell_type": "markdown",
   "id": "56a85a2a-a00e-43af-985f-10d2d1b02e88",
   "metadata": {},
   "source": [
    "# Reference\n",
    "Klein, Rupert, et al. \"Multiple scales methods in meteorology.\" Asymptotic Methods in Fluid Mechanics: Survey and Recent Advances. 2010. 127-196."
   ]
  }
 ],
 "metadata": {
  "kernelspec": {
   "display_name": "Python 3.7.3 64-bit ('anaconda3': virtualenv)",
   "language": "python",
   "name": "python37364bitanaconda3virtualenv7a28dc8db0264e168ad4f93d8f9f620c"
  },
  "language_info": {
   "codemirror_mode": {
    "name": "ipython",
    "version": 3
   },
   "file_extension": ".py",
   "mimetype": "text/x-python",
   "name": "python",
   "nbconvert_exporter": "python",
   "pygments_lexer": "ipython3",
   "version": "3.7.3"
  }
 },
 "nbformat": 4,
 "nbformat_minor": 5
}
