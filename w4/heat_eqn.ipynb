{
 "cells": [
  {
   "cell_type": "markdown",
   "id": "41fb1c47-8b94-4d49-9b50-613498b24e46",
   "metadata": {},
   "source": [
    "# Tutorial 5\n",
    "\n",
    "## Exercise 2: The 2D heat equation"
   ]
  },
  {
   "cell_type": "markdown",
   "id": "81db7972-06b7-4332-89d3-687596dd9bee",
   "metadata": {},
   "source": [
    "Let's import some libraries"
   ]
  },
  {
   "cell_type": "code",
   "execution_count": 12,
   "id": "5c60ef8a-3412-40ff-8e18-46092323a0dd",
   "metadata": {},
   "outputs": [],
   "source": [
    "import numpy as np\n",
    "import matplotlib.pyplot as plt\n",
    "\n",
    "%matplotlib inline"
   ]
  },
  {
   "cell_type": "markdown",
   "id": "cd7acfb6-e9cc-4d8c-a463-28b391ddc906",
   "metadata": {},
   "source": [
    "We want to solve the 2D heat equation:\n",
    "    $$ \\frac{\\partial}{\\partial t} u(t,x,y) = \\Delta u(t,x,y). \\tag{1}$$\n",
    "    \n",
    "This is a [partial differential equation](https://en.wikipedia.org/wiki/Partial_differential_equation), since $u$ is dependent on both time $t$ and the spatial variables $(x,y)$ and $u$ has a first-order derivative w.r.t $t$ on the left-hand side, and a second-order derivative w.r.t $(x,y)$ on the right.\n",
    "\n",
    "When we worked on our oscillator problem, we only had one first-order derivative w.r.t $t$ and in this case, we needed only an *initial condition*. Now as we are dealing with spatial derivatives, we also need a set of *boundary conditions* and a *spatial grid*.\n",
    "\n",
    "For the initial condition, we take\n",
    "$$ u^0 = \\exp(-r^2), $$\n",
    "where $r = \\sqrt{x^2 + y^2}$.\n",
    "\n",
    "To define the spatial grid, we take $x \\in [-4,4]$ and $y \\in [-4,4]$. Finally, we say that $u$ is periodic both $x$ and $y$.\n",
    "\n",
    "### The 1D problem\n",
    "In 1D, the problem is somewhat easier:\n",
    "    $$ \\frac{\\partial}{\\partial t} u(t,x,y) = \\frac{\\partial^2 }{\\partial x^2} u(t,x,y), \\tag{2} $$\n",
    "    $$ u^0 = \\exp(-x^2), $$\n",
    "with $x \\in [-4,4]$, so we first try to deal with this 1D problem. \n",
    "\n",
    "We learnt how to discretise a problem in time. Now let's apply what we learnt:\n",
    "1. Can you discretise the left-hand side of equation (2) with the [explicit midpoint method](https://en.wikipedia.org/wiki/Midpoint_method)?\n",
    "2. We want second-order schemes in both time and space. The explicit midpoint method is a second-order time-integrator. We want to use the second-order [central difference method](https://en.wikipedia.org/wiki/Finite_difference#Higher-order_differences) for spatial discretisation. Can you discretise the right-hand side of (2) with this method?\n",
    "3. Now what are the components that you need to implement this problem? (List them out)\n",
    "4. Implement the components... see what works and what doesn't.\n",
    "\n",
    "**Try to use slicing, broadcasting, and vectorisation as you code!**"
   ]
  },
  {
   "cell_type": "code",
   "execution_count": null,
   "id": "d2deeb5e-f74a-4185-9c6c-42e964139ec6",
   "metadata": {},
   "outputs": [],
   "source": [
    "# spatial step-size\n",
    "dx = 0.1\n",
    "# temporal step-size\n",
    "dt = 0.001\n",
    "# simulation end time\n",
    "T = 1.0\n",
    "# the time axis\n",
    "t = np.arange(0.0,T+dt,dt)\n",
    "\n",
    "# your code here:\n",
    "# ...\n",
    "\n",
    "# Here is a code to check if you initialised the initial condition correctly.\n",
    "plt.figure()\n",
    "plt.imshow(z, origin='lower')\n",
    "plt.colorbar()\n",
    "plt.show()"
   ]
  },
  {
   "cell_type": "markdown",
   "id": "92fdb634-5854-4b75-a716-84e575199d8d",
   "metadata": {},
   "source": [
    "### The 2D problem\n",
    "Now that we have the 1D solution of the heat equation, \n",
    "1. Can you discretise the right-hand of (1) in 2D? Hint: You will obtain the famous [5-point stencil](https://en.wikipedia.org/wiki/Five-point_stencil) for the [Laplace operator](https://en.wikipedia.org/wiki/Laplace_operator).\n",
    "2. Now, the challenge is to solve the 2D heat equation by changing your 1D code *as little as possible*. Can you do that?"
   ]
  },
  {
   "cell_type": "code",
   "execution_count": 11,
   "id": "71c2dabe-9b36-4c84-9b30-bae2edfc97cb",
   "metadata": {},
   "outputs": [],
   "source": [
    "# your code here\n",
    "# ..."
   ]
  },
  {
   "cell_type": "markdown",
   "id": "0ce75ca5-068b-4220-98cb-835e6d6d9ae8",
   "metadata": {},
   "source": [
    "Below is a code snippet that saves your solution as an animation."
   ]
  },
  {
   "cell_type": "code",
   "execution_count": null,
   "id": "dbc0ceea-178a-4d95-b9f5-8f81cfbe05c9",
   "metadata": {},
   "outputs": [],
   "source": [
    "import matplotlib.animation as animation\n",
    "from mpl_toolkits.mplot3d import Axes3D\n",
    "\n",
    "fig = plt.figure()\n",
    "ax = fig.add_subplot(projection='3d')\n",
    "\n",
    "X,Y = np.meshgrid(xh,xh)\n",
    "plot = [ax.plot_surface(X, Y, sol[0,:,:], color='1.0', rstride=1, cstride=1, cmap=\"magma\")]\n",
    "\n",
    "def update_plot(i, sol, plot):\n",
    "    plot[0].remove()\n",
    "    plot[0] = ax.plot_surface(X, Y, sol[i,:,:], cmap=\"magma\")\n",
    "\n",
    "ax.set_zlim(0,1.1)\n",
    "ani = animation.FuncAnimation(fig, update_plot, 2001, fargs=(sol, plot), interval=1)\n",
    "ani.save('heat_eqn_soln.mp4', fps=30, extra_args=['-vcodec', 'libx264'])\n",
    "plt.show()"
   ]
  },
  {
   "cell_type": "code",
   "execution_count": null,
   "id": "1b42d56a-3920-4325-8e81-21a86e126829",
   "metadata": {},
   "outputs": [],
   "source": []
  }
 ],
 "metadata": {
  "kernelspec": {
   "display_name": "Python 3",
   "language": "python",
   "name": "python3"
  },
  "language_info": {
   "codemirror_mode": {
    "name": "ipython",
    "version": 3
   },
   "file_extension": ".py",
   "mimetype": "text/x-python",
   "name": "python",
   "nbconvert_exporter": "python",
   "pygments_lexer": "ipython3",
   "version": "3.7.10"
  }
 },
 "nbformat": 4,
 "nbformat_minor": 5
}
