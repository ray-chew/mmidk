{
 "cells": [
  {
   "cell_type": "markdown",
   "id": "50035589-4f81-4796-9184-5c66804b88cb",
   "metadata": {},
   "source": [
    "# Tutorial 5\n",
    "Let's first import some libraries..."
   ]
  },
  {
   "cell_type": "code",
   "execution_count": 2,
   "id": "539bb281-c836-4451-b5a0-3637aea6b65e",
   "metadata": {},
   "outputs": [],
   "source": [
    "import numpy as np\n",
    "import matplotlib.pyplot as plt"
   ]
  },
  {
   "cell_type": "markdown",
   "id": "3b588e69-48f2-491c-9dab-e2d350abb27e",
   "metadata": {},
   "source": [
    "## 1. Preallocate arrays\n",
    "\n",
    "For large arrays, it is more efficient to preallocate your arrays than to change its size on the fly. In other words, we want to avoid \"append\". Let's take a closer look..."
   ]
  },
  {
   "cell_type": "code",
   "execution_count": 8,
   "id": "04fdcd52-fa84-40c3-bfd9-18e53a485062",
   "metadata": {},
   "outputs": [
    {
     "name": "stdout",
     "output_type": "stream",
     "text": [
      "49.4 µs ± 1.93 µs per loop (mean ± std. dev. of 7 runs, 10000 loops each)\n"
     ]
    }
   ],
   "source": [
    "%%timeit\n",
    "# we initialise an empty Python list\n",
    "A = [] \n",
    "for i in range(1000):\n",
    "    # we append 1000 elements in the array\n",
    "    A.append(i)"
   ]
  },
  {
   "cell_type": "code",
   "execution_count": 10,
   "id": "26fd4f5f-94d6-47b2-a3e3-223852fbcc51",
   "metadata": {},
   "outputs": [
    {
     "name": "stdout",
     "output_type": "stream",
     "text": [
      "3.71 ms ± 97.7 µs per loop (mean ± std. dev. of 7 runs, 100 loops each)\n"
     ]
    }
   ],
   "source": [
    "%%timeit\n",
    "# now we append to a numpy array...\n",
    "B = np.zeros((0))\n",
    "for i in range(1000):\n",
    "    # note that the Python list.append() will not work for numpy arrays!\n",
    "    B = np.append(B,i)"
   ]
  },
  {
   "cell_type": "markdown",
   "id": "0710f27d-223c-456a-afe9-837e3185f6e1",
   "metadata": {},
   "source": [
    "Now let's how much faster it is if we were to preallocate the array:"
   ]
  },
  {
   "cell_type": "code",
   "execution_count": 11,
   "id": "6789ac17-ea7f-4087-bb5a-aa6a2327f86e",
   "metadata": {},
   "outputs": [
    {
     "name": "stdout",
     "output_type": "stream",
     "text": [
      "28.2 µs ± 363 ns per loop (mean ± std. dev. of 7 runs, 10000 loops each)\n"
     ]
    }
   ],
   "source": [
    "%%timeit\n",
    "# this is how we preallocate an pure Python list\n",
    "C = [0]*1000\n",
    "for i in range(1000):\n",
    "    C[i] = i"
   ]
  },
  {
   "cell_type": "code",
   "execution_count": 12,
   "id": "a3c4c7f4-096b-4e58-90bb-8fe0019b4fe8",
   "metadata": {},
   "outputs": [
    {
     "name": "stdout",
     "output_type": "stream",
     "text": [
      "77.3 µs ± 2.96 µs per loop (mean ± std. dev. of 7 runs, 10000 loops each)\n"
     ]
    }
   ],
   "source": [
    "%%timeit\n",
    "D = np.zeros((1000))\n",
    "for i in range(1000):\n",
    "    D[i] = i"
   ]
  },
  {
   "cell_type": "markdown",
   "id": "9f04e1ba-15ae-46cc-88a7-13d732423ebe",
   "metadata": {},
   "source": [
    "We get a speed-up of **2 times** for the normal Python list, and a speed-up of **48 times** for the numpy array!"
   ]
  },
  {
   "cell_type": "markdown",
   "id": "7c24af46-9ee0-4173-85fe-91415b8eedc4",
   "metadata": {},
   "source": [
    "-----"
   ]
  },
  {
   "cell_type": "markdown",
   "id": "a05355e1-edec-4d47-aea8-e2dcea907658",
   "metadata": {},
   "source": [
    "## 2. Careful iteration through a for-loop"
   ]
  },
  {
   "cell_type": "markdown",
   "id": "70fa1365-6b7d-41e7-b1dc-7496d97e8ad7",
   "metadata": {},
   "source": [
    "We should try to \n",
    "\n",
    " 1. loop through the most relevant axis of the array,\n",
    " 2. use enumerate when needed, and\n",
    " 3. use numpy functions, e.g. sum() as much as possible:"
   ]
  },
  {
   "cell_type": "code",
   "execution_count": 34,
   "id": "c10d08ca-323f-48d6-b798-1ee636ee8237",
   "metadata": {},
   "outputs": [
    {
     "name": "stdout",
     "output_type": "stream",
     "text": [
      "2.02 ms ± 28.5 µs per loop (mean ± std. dev. of 7 runs, 100 loops each)\n"
     ]
    }
   ],
   "source": [
    "%%timeit\n",
    "np.random.seed(555)\n",
    "A = np.random.random((1000,5,5))\n",
    "B = np.zeros((1000))\n",
    "for idx, a in enumerate(A):\n",
    "    B[idx] = a.sum()"
   ]
  },
  {
   "cell_type": "code",
   "execution_count": 32,
   "id": "1fc23ae0-af3b-4335-b3cc-2ed4af0d97ea",
   "metadata": {},
   "outputs": [
    {
     "name": "stdout",
     "output_type": "stream",
     "text": [
      "4.51 ms ± 19.3 µs per loop (mean ± std. dev. of 7 runs, 100 loops each)\n"
     ]
    }
   ],
   "source": [
    "%%timeit\n",
    "np.random.seed(555)\n",
    "A = np.random.random((1000,5,5))\n",
    "B = np.zeros((1000))\n",
    "for idx in range(1000):\n",
    "    b = 0\n",
    "    for i in range(5):\n",
    "        for j in range(5):\n",
    "            # this is equivalent to b = b + A[idx,i,j]\n",
    "            b += A[idx,i,j] \n",
    "    B[idx] = b"
   ]
  },
  {
   "cell_type": "code",
   "execution_count": 3,
   "id": "b5180fe1-8026-406a-8b75-cd1f724d52e4",
   "metadata": {},
   "outputs": [
    {
     "name": "stdout",
     "output_type": "stream",
     "text": [
      "152 µs ± 5.59 µs per loop (mean ± std. dev. of 7 runs, 10000 loops each)\n"
     ]
    }
   ],
   "source": [
    "%%timeit\n",
    "np.random.seed(555)\n",
    "A = np.random.random((1000,5,5))\n",
    "B = np.zeros((1000))\n",
    "B[...] = A.sum(axis=(1,2))"
   ]
  },
  {
   "cell_type": "markdown",
   "id": "9fbd1233-c9ab-448b-ae41-3de16a495d24",
   "metadata": {},
   "source": [
    "-----"
   ]
  },
  {
   "cell_type": "markdown",
   "id": "fc1bfe30-e3e6-40eb-aa02-69f3c8750344",
   "metadata": {},
   "source": [
    "## 3. Computer precision\n",
    "Numbers in a computer are stored as, for example, `int` (integers) or `float` (decimal point numbers). The implication of this is that there is a finite precision of how a computer can store, compute, and process numbers. \n",
    "\n",
    "See [floating-point arithmetic](https://en.wikipedia.org/wiki/Floating-point_arithmetic) for more details."
   ]
  },
  {
   "cell_type": "code",
   "execution_count": 9,
   "id": "08c9d3a5-c1de-4b98-bf7c-d8b9932edd17",
   "metadata": {},
   "outputs": [
    {
     "name": "stdout",
     "output_type": "stream",
     "text": [
      "Type of a random number = <class 'float'>\n",
      "Random number is 0.206334907384653\n",
      "Precision of a 'float' is 15\n",
      "\n",
      "We obtained a string 9146690504665504194393334 of length 25\n",
      "Converting the string to float: 9.146690504665504e+24\n"
     ]
    }
   ],
   "source": [
    "# Let's draw a random number and check what is its type:\n",
    "A = np.random.random()\n",
    "print(\"Type of a random number =\", type(A))\n",
    "print(\"Random number is\", A)\n",
    "\n",
    "# Now let's check the precision of a float\n",
    "print(\"Precision of a 'float' is\", np.finfo(float).precision)\n",
    "# This means that a float is only able to store up to 15 decimal places accurately.\n",
    "\n",
    "print(\"\")\n",
    "\n",
    "# Let's artifically create a very long number by\n",
    "# first creating a string of text...\n",
    "string = ''\n",
    "np.random.seed(555)\n",
    "for _ in range(25):\n",
    "    string = string + str(np.random.randint(0,10))\n",
    "    \n",
    "# Now we print the string and its length:\n",
    "print(\"We obtained a string %s of length %i\" %(string,len(string)))\n",
    "\n",
    "# Now we convert the string to a float:\n",
    "print(\"Converting the string to float:\", float(string))"
   ]
  },
  {
   "cell_type": "markdown",
   "id": "e10be6e9-8f15-472a-95d7-fd36739ea3a5",
   "metadata": {},
   "source": [
    "You can see that everything after the 15th decimal place have been truncated, i.e. lost, because the precision of a float on a computer is only up to 15 decimal places!\n",
    "\n",
    "There are \"more precise\" floating-point number types but we should generally avoid them, e.g. numpy's `long double`. See [Numpy's data types page](https://numpy.org/doc/stable/user/basics.types.html) for more details."
   ]
  },
  {
   "cell_type": "code",
   "execution_count": 10,
   "id": "97c8cd75-0494-4aec-84d9-ebd6e5484fb4",
   "metadata": {},
   "outputs": [
    {
     "name": "stdout",
     "output_type": "stream",
     "text": [
      "Precision of a 'long double' is 18\n",
      "9.1466905046655041945e+24\n"
     ]
    }
   ],
   "source": [
    "print(\"Precision of a 'long double' is\", np.finfo(np.longdouble).precision)\n",
    "\n",
    "# With a long double, we have gained 4 decimal places of precision!\n",
    "print(np.longdouble(string))"
   ]
  },
  {
   "cell_type": "markdown",
   "id": "b501d32f-e6fb-4e14-9aea-6b3c3cfe1ffb",
   "metadata": {},
   "source": [
    "-----"
   ]
  },
  {
   "cell_type": "markdown",
   "id": "7dfd39a8-2d86-4190-a60e-649c727b9190",
   "metadata": {},
   "source": [
    "## 4. Numpy broadcasting, slicing, and vectorisation\n",
    "\n",
    "These are three big topics, and I encourage you to read up on it on your own.\n",
    "\n",
    "Here, we look at them briefly, and we will be using more examples through the tutorial."
   ]
  },
  {
   "cell_type": "markdown",
   "id": "e69eb0e2-f99b-4c52-b860-b6a4d00d0a7e",
   "metadata": {},
   "source": [
    "### 4.1: Broadcasting\n",
    "\n",
    "We have already seen this in the computation of the kinetic and potential energy of the simple harmonic oscillator. Basically, numpy allows us to do element-wise operations on arrays:"
   ]
  },
  {
   "cell_type": "code",
   "execution_count": 42,
   "id": "da1c3848-0e27-42f5-8a11-d68992b0d28d",
   "metadata": {},
   "outputs": [
    {
     "name": "stdout",
     "output_type": "stream",
     "text": [
      "[0.23976742 0.03450459 0.14859311 0.81086617 0.65310538 0.54446869\n",
      " 0.04119477 0.46816625 0.88874673 0.47625856]\n",
      "[0.47953484 0.06900918 0.29718623 1.62173235 1.30621075 1.08893737\n",
      " 0.08238953 0.9363325  1.77749347 0.95251711]\n"
     ]
    }
   ],
   "source": [
    "np.random.seed(555)\n",
    "A = np.random.random((10,10))\n",
    "print(A[1])\n",
    "\n",
    "# this is equivalent to A = A * 2.0\n",
    "A *= 2.0\n",
    "print(A[1])"
   ]
  },
  {
   "cell_type": "markdown",
   "id": "50788210-85dc-4466-8165-ffac5e5bbc05",
   "metadata": {},
   "source": [
    "### 4.2: Slicing\n",
    "Slicing are fancy ways of indexing an array in Python. Normally, how you would index is `a = A[5,5]`.\n",
    "\n",
    "Let's take a look at a few examples of slices:"
   ]
  },
  {
   "cell_type": "code",
   "execution_count": 27,
   "id": "cc6086e2-a5ba-466e-8e54-c55fb11edd0c",
   "metadata": {},
   "outputs": [
    {
     "name": "stdout",
     "output_type": "stream",
     "text": [
      "A.shape =  (12, 12)\n",
      "B.shape =  (10, 10)\n",
      "C.shape =  (10, 12)\n",
      "D.shape =  (4, 5, 6, 7, 8)\n",
      "E.shape =  (4, 3, 6, 7, 8)\n",
      "F.shape =  (5, 5)\n",
      "F =  0.0\n",
      "G = \n",
      " [[0 0 0 0 0]\n",
      " [0 0 0 0 0]\n",
      " [0 0 0 0 0]\n",
      " [0 0 0 0 0]\n",
      " [0 0 0 0 0]]\n"
     ]
    }
   ],
   "source": [
    "# A is a 12x12 array\n",
    "A = np.arange(144).reshape(12,12)\n",
    "print(\"A.shape = \", A.shape)\n",
    "\n",
    "# Now let's say we want to access only access the middle 10 elements:\n",
    "B = A[1:-1,1:-1]\n",
    "# The comand in the square brackets says: \n",
    "# let's take all elements not including the first element \n",
    "# and not including last element in both the x and y directions.\n",
    "print(\"B.shape = \", B.shape)\n",
    "\n",
    "# This says: let's only take all elements not including \n",
    "# the first element and not including last element in\n",
    "# the x-direction; leave the y-axis alone.\n",
    "C = A[1:-1,:]\n",
    "print(\"C.shape = \", C.shape)\n",
    "\n",
    "# Let's define a high-dimensional array\n",
    "D = np.arange(6720).reshape(4,5,6,7,8)\n",
    "print(\"D.shape = \", D.shape)\n",
    "\n",
    "# But let's pretend that we do not know the shape of \n",
    "# the array, except that the the first two axes are\n",
    "# the grid that we want to remove the last two indices\n",
    "# off the second axis:\n",
    "E = D[:,:-2,...]\n",
    "print(\"E.shape = \", E.shape)\n",
    "\n",
    "# The three dots are Python ellipsis and they can be used\n",
    "# in a few tricks...\n",
    "F = np.arange(25).reshape(5,5)\n",
    "print(\"F.shape = \", F.shape)\n",
    "\n",
    "F = 0.0\n",
    "# We have set F from a 5x5 array to a float that is zero!\n",
    "print(\"F = \", F)\n",
    "\n",
    "G = np.arange(25).reshape(5,5)\n",
    "# print(\"G = \\n\", G)\n",
    "# But with the ellipses, we can set *all* elements to zero instead.\n",
    "G[...] = 0.0\n",
    "print(\"G = \\n\", G)"
   ]
  },
  {
   "cell_type": "code",
   "execution_count": 28,
   "id": "4f4f37a8-484a-49c5-9635-4e364535d315",
   "metadata": {},
   "outputs": [
    {
     "name": "stdout",
     "output_type": "stream",
     "text": [
      "original shape of J = \n",
      " (5, 5, 5)\n",
      "shape after improper assignment of J = \n",
      " (6, 5, 5)\n",
      "original shape of K = \n",
      " (5, 5, 5)\n"
     ]
    },
    {
     "ename": "ValueError",
     "evalue": "could not broadcast input array from shape (6,5,5) into shape (5,5,5)",
     "output_type": "error",
     "traceback": [
      "\u001b[0;31m---------------------------------------------------------------------------\u001b[0m",
      "\u001b[0;31mValueError\u001b[0m                                Traceback (most recent call last)",
      "\u001b[0;32m<ipython-input-28-075510d07ecf>\u001b[0m in \u001b[0;36m<module>\u001b[0;34m\u001b[0m\n\u001b[1;32m     16\u001b[0m \u001b[0mK\u001b[0m \u001b[0;34m=\u001b[0m \u001b[0mnp\u001b[0m\u001b[0;34m.\u001b[0m\u001b[0mcopy\u001b[0m\u001b[0;34m(\u001b[0m\u001b[0mH\u001b[0m\u001b[0;34m)\u001b[0m\u001b[0;34m\u001b[0m\u001b[0;34m\u001b[0m\u001b[0m\n\u001b[1;32m     17\u001b[0m \u001b[0mprint\u001b[0m\u001b[0;34m(\u001b[0m\u001b[0;34m\"original shape of K = \\n\"\u001b[0m\u001b[0;34m,\u001b[0m \u001b[0mK\u001b[0m\u001b[0;34m.\u001b[0m\u001b[0mshape\u001b[0m\u001b[0;34m)\u001b[0m\u001b[0;34m\u001b[0m\u001b[0;34m\u001b[0m\u001b[0m\n\u001b[0;32m---> 18\u001b[0;31m \u001b[0mK\u001b[0m\u001b[0;34m[\u001b[0m\u001b[0;34m...\u001b[0m\u001b[0;34m]\u001b[0m \u001b[0;34m=\u001b[0m \u001b[0mI\u001b[0m\u001b[0;34m\u001b[0m\u001b[0;34m\u001b[0m\u001b[0m\n\u001b[0m",
      "\u001b[0;31mValueError\u001b[0m: could not broadcast input array from shape (6,5,5) into shape (5,5,5)"
     ]
    }
   ],
   "source": [
    "# Ellipsis can also be used as an implicit assert statement\n",
    "# to make sure that we do not change the size of our\n",
    "# arrays unwittingly\n",
    "H = np.arange(125).reshape(5,5,5)\n",
    "I = np.arange(150).reshape(6,5,5)\n",
    "\n",
    "# We want to preserve the (5,5,5) structure, but make H\n",
    "# an array that is 5 times of I:\n",
    "J = np.copy(H)\n",
    "print(\"original shape of J = \\n\", J.shape)\n",
    "J = I\n",
    "print(\"shape after improper assignment of J = \\n\", J.shape)\n",
    "\n",
    "# But with the ellipsis, we implicitly assert that the shape\n",
    "# of the array cannot be changed!\n",
    "K = np.copy(H)\n",
    "print(\"original shape of K = \\n\", K.shape)\n",
    "K[...] = I"
   ]
  },
  {
   "cell_type": "code",
   "execution_count": 37,
   "id": "dc1a4789-8772-4eb2-8126-26d7da787d6b",
   "metadata": {},
   "outputs": [
    {
     "name": "stdout",
     "output_type": "stream",
     "text": [
      "A.shape =  (12, 12)\n",
      "B.shape =  (10, 10)\n",
      "C.shape =  (10, 10)\n",
      "Our dimension-free slicer is (slice(1, -1, None), slice(1, -1, None), slice(1, -1, None), slice(1, -1, None), slice(1, -1, None))\n",
      "E.shape =  (2, 3, 4, 5, 6)\n"
     ]
    }
   ],
   "source": [
    "# Let us take a short look into slice functions...\n",
    "# We have seen this before.\n",
    "A = np.arange(144).reshape(12,12)\n",
    "print(\"A.shape = \", A.shape)\n",
    "B = A[1:-1,1:-1]\n",
    "print(\"B.shape = \", B.shape)\n",
    "\n",
    "# this is equivalent to the indexing we saw before...\n",
    "slc = (slice(1,-1),slice(1,-1))\n",
    "C = A[slc]\n",
    "print(\"C.shape = \", C.shape)\n",
    "\n",
    "# A nice thing about the slice function is dimension-free slicing:\n",
    "D = np.arange(6720).reshape(4,5,6,7,8)\n",
    "\n",
    "# slc_dfree = []\n",
    "# for _ in range(D.ndim):\n",
    "#     slc_dfree.append(slice(1,-1))\n",
    "# slc_dfree = tuple(slc_dfree)\n",
    "\n",
    "slc_dfree = tuple([slice(1,-1)]*D.ndim)\n",
    "\n",
    "print(\"Our dimension-free slicer is\", slc_dfree)\n",
    "# How does it work then?\n",
    "E = D[slc_dfree]\n",
    "print(\"E.shape = \", E.shape)"
   ]
  },
  {
   "cell_type": "markdown",
   "id": "08ccb48b-195b-41ff-85bc-7980dc68a7e1",
   "metadata": {},
   "source": [
    "### 4.3: Vectorisation\n",
    "We have since broadcasting in action... Can we broadcast arrays with different shapes to do some computations?"
   ]
  },
  {
   "cell_type": "code",
   "execution_count": 21,
   "id": "762d071e-9386-45c5-a247-ad5a18e98624",
   "metadata": {},
   "outputs": [
    {
     "data": {
      "image/png": "[encoded data removed]",
      "text/plain": [
       "<Figure size 432x288 with 1 Axes>"
      ]
     },
     "metadata": {
      "needs_background": "light"
     },
     "output_type": "display_data"
    }
   ],
   "source": [
    "# Set x-extent\n",
    "xmin = -4\n",
    "xmax = +4\n",
    "# Set spatial step-size\n",
    "dx = 0.1\n",
    "# Set x-grid\n",
    "xh = np.arange(xmin,xmax+dx,dx)\n",
    "\n",
    "# Now, we define a 1D Gaussian function...\n",
    "x = np.exp(-xh**2)\n",
    "\n",
    "plt.figure()\n",
    "plt.plot(xh, x)\n",
    "plt.grid()\n",
    "plt.show()"
   ]
  },
  {
   "cell_type": "code",
   "execution_count": 22,
   "id": "ddf81406-7bfd-4b8f-be09-dd768c3d00a6",
   "metadata": {},
   "outputs": [
    {
     "name": "stdout",
     "output_type": "stream",
     "text": [
      "x.shape =  (81,)\n",
      "X.shape =  (81, 1)\n",
      "Y.shape =  (1, 81)\n",
      "Z.shape = (81, 81)\n"
     ]
    },
    {
     "data": {
      "image/png": "[encoded data removed]",
      "text/plain": [
       "<Figure size 432x288 with 2 Axes>"
      ]
     },
     "metadata": {
      "needs_background": "light"
     },
     "output_type": "display_data"
    }
   ],
   "source": [
    "# Now we want to define a 2D Gaussian...\n",
    "# We want a 2D array with all the elements to be on the first axis\n",
    "print(\"x.shape = \", x.shape)\n",
    "\n",
    "X = x.reshape(-1,1)\n",
    "print(\"X.shape = \", X.shape)\n",
    "\n",
    "# Then we define a second vector with all the elements on the second\n",
    "# axis\n",
    "Y = x.reshape(1,-1)\n",
    "print(\"Y.shape = \", Y.shape)\n",
    "\n",
    "# Then we broadcast the arrays together:\n",
    "Z = X * Y\n",
    "print(\"Z.shape =\", Z.shape)\n",
    "\n",
    "plt.figure()\n",
    "plt.imshow(Z, origin='lower')\n",
    "plt.colorbar()\n",
    "plt.show()"
   ]
  },
  {
   "cell_type": "code",
   "execution_count": null,
   "id": "9fe288af-2ee2-4b47-b42d-906fec8bfc28",
   "metadata": {},
   "outputs": [],
   "source": []
  }
 ],
 "metadata": {
  "kernelspec": {
   "display_name": "Python 3",
   "language": "python",
   "name": "python3"
  },
  "language_info": {
   "codemirror_mode": {
    "name": "ipython",
    "version": 3
   },
   "file_extension": ".py",
   "mimetype": "text/x-python",
   "name": "python",
   "nbconvert_exporter": "python",
   "pygments_lexer": "ipython3",
   "version": "3.7.10"
  }
 },
 "nbformat": 4,
 "nbformat_minor": 5
}
