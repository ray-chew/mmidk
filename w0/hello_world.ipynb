{
 "cells": [
  {
   "cell_type": "markdown",
   "id": "57178893-d689-4d3d-b699-e49917a47a7f",
   "metadata": {},
   "source": [
    "# Tutorial 1\n",
    "## Exercise 1: Hello world!\n",
    "This exercise is to help us get started with *git* and our Python setup.\n",
    "\n",
    "1. Pull this notebook and open it with jupyter lab.\n",
    "2. Run the cell below. Does it print \"Hello world!\"?\n",
    "3. Familiarise yourself with the jupyer lab interface."
   ]
  },
  {
   "cell_type": "code",
   "execution_count": 1,
   "id": "c70e0481-afe1-4c8e-b8b3-7fae045e2a01",
   "metadata": {},
   "outputs": [
    {
     "name": "stdout",
     "output_type": "stream",
     "text": [
      "Hello World!\n"
     ]
    }
   ],
   "source": [
    "print(\"Hello World!\")"
   ]
  }
 ],
 "metadata": {
  "interpreter": {
   "hash": "916dbcbb3f70747c44a77c7bcd40155683ae19c65e1c03b4aa3499c5328201f1"
  },
  "kernelspec": {
   "display_name": "Python 3.9.5 64-bit",
   "name": "python3"
  },
  "language_info": {
   "codemirror_mode": {
    "name": "ipython",
    "version": 3
   },
   "file_extension": ".py",
   "mimetype": "text/x-python",
   "name": "python",
   "nbconvert_exporter": "python",
   "pygments_lexer": "ipython3",
   "version": "3.9.5"
  }
 },
 "nbformat": 4,
 "nbformat_minor": 5
}
